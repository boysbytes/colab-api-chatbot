{
  "cells": [
    {
      "cell_type": "markdown",
      "metadata": {
        "id": "view-in-github",
        "colab_type": "text"
      },
      "source": [
        "<a href=\"https://colab.research.google.com/github/boysbytes/colab-chatbot/blob/main/colab_api_chatbot.ipynb\" target=\"_parent\"><img src=\"https://colab.research.google.com/assets/colab-badge.svg\" alt=\"Open In Colab\"/></a>"
      ]
    },
    {
      "cell_type": "markdown",
      "metadata": {
        "id": "GLydwGudE7p2"
      },
      "source": [
        "# My Own Chatbot in Google Colab"
      ]
    },
    {
      "cell_type": "markdown",
      "metadata": {
        "id": "8cAYxVHFzUwI"
      },
      "source": [
        "## Install libraries"
      ]
    },
    {
      "cell_type": "code",
      "execution_count": null,
      "metadata": {
        "collapsed": true,
        "id": "I2CpnTY5zLzy"
      },
      "outputs": [],
      "source": [
        "!pip3 install gradio\n",
        "!pip install -q -U google-generativeai"
      ]
    },
    {
      "cell_type": "markdown",
      "metadata": {
        "id": "wSAmtnOJzdL9"
      },
      "source": [
        "## Get and configure Gemini API key"
      ]
    },
    {
      "cell_type": "markdown",
      "metadata": {
        "id": "JO8_qs_pzo9n"
      },
      "source": [
        "1. Open [Google AI Studio](https://aistudio.google.com/app/apikey).\n",
        "2. Select **Create API Key**. You might need to sign in with your Google account.\n",
        "3. Copy the API key.\n",
        "\n",
        "> **Note** \\\n",
        "> Use your API keys securely. Do not share them or embed them in code the public can view."
      ]
    },
    {
      "cell_type": "code",
      "execution_count": null,
      "metadata": {
        "id": "Oy_1OzHP2GE5"
      },
      "outputs": [],
      "source": [
        "# @title Set up API key\n",
        "gemini_api_key = \"\" # @param {\"type\":\"string\",\"placeholder\":\"Enter your Gemini API key.\"}\n",
        "import google.generativeai as genai\n",
        "genai.configure(api_key=gemini_api_key)\n",
        "\n",
        "# --- Simplified API Key Verification ---\n",
        "try:\n",
        "    model = genai.GenerativeModel('gemini-1.5-flash')\n",
        "    response = model.generate_content(\"test\") # Minimal test prompt\n",
        "    print(\"API call successful (preliminary)\")\n",
        "except Exception as e:\n",
        "    print(f\"API call failed: {e}\")\n",
        "    print(f\"Error details: {e}\")"
      ]
    },
    {
      "cell_type": "markdown",
      "metadata": {
        "id": "s113La1I0tbp"
      },
      "source": [
        "## Import libraries"
      ]
    },
    {
      "cell_type": "code",
      "execution_count": null,
      "metadata": {
        "id": "GPFJNLLa0vV2"
      },
      "outputs": [],
      "source": [
        "import google.generativeai as genai\n",
        "import gradio as gr\n",
        "import re"
      ]
    },
    {
      "cell_type": "markdown",
      "metadata": {
        "id": "Hf781fFL0xfD"
      },
      "source": [
        "## Define prompt template and variables"
      ]
    },
    {
      "cell_type": "code",
      "execution_count": null,
      "metadata": {
        "id": "cET0SZcx05Fc"
      },
      "outputs": [],
      "source": [
        "# Prompt Template\n",
        "prompt_template = \"\"\"You are a helpful and friendly mentor.\n",
        "You will answer user questions in a concise and informative way.\n",
        "Your responses must be appropriate and relevant to 15 year old students.\n",
        "\n",
        "Conversation History:\n",
        "{chat_history_formatted}\n",
        "\n",
        "User's Message: {user_message}\n",
        "\n",
        "Chatbot's Response:\n",
        "\"\"\"\n",
        "\n",
        "# Variables\n",
        "model_name = \"gemini-1.5-flash\"\n",
        "temperature = 0.7"
      ]
    },
    {
      "cell_type": "markdown",
      "metadata": {
        "id": "50X8ZtK-0_Rl"
      },
      "source": [
        "## Create chatbot function"
      ]
    },
    {
      "cell_type": "code",
      "execution_count": null,
      "metadata": {
        "id": "gGOBOVqWB5yg"
      },
      "outputs": [],
      "source": [
        "# Initialize chat history variable\n",
        "chat_history = [(\"Chatbot\", \"Hello! I'm a friendly mentor. How can I help you today?\")]"
      ]
    },
    {
      "cell_type": "code",
      "execution_count": null,
      "metadata": {
        "id": "rWrdjjOK1Aur"
      },
      "outputs": [],
      "source": [
        "def contains_prohibited_content(text):\n",
        "    \"\"\"Checks if the response contains inappropriate words.\"\"\"\n",
        "    prohibited_words = [\"kill\", \"suicide\", \"sex\", \"drugs\", \"violence\"]  # Add more as needed\n",
        "    return any(word in text.lower() for word in prohibited_words)\n",
        "\n",
        "def generate_gemini_response(user_input, history=[]):\n",
        "    # Access the global chat_history variable\n",
        "    global chat_history\n",
        "\n",
        "    try:\n",
        "        # Define safety settings\n",
        "        safety_settings = [\n",
        "            {\"category\": \"HARM_CATEGORY_HARASSMENT\", \"threshold\": \"BLOCK_NONE\"},\n",
        "            {\"category\": \"HARM_CATEGORY_HATE_SPEECH\", \"threshold\": \"BLOCK_NONE\"},\n",
        "            {\"category\": \"HARM_CATEGORY_SEXUALLY_EXPLICIT\", \"threshold\": \"BLOCK_NONE\"},\n",
        "            {\"category\": \"HARM_CATEGORY_DANGEROUS_CONTENT\", \"threshold\": \"BLOCK_NONE\"},\n",
        "        ]\n",
        "\n",
        "        # Include chat history in the prompt\n",
        "        chat_history_formatted = \"\\n\".join([f\"User: {user}\\nChatbot: {bot}\" for user, bot in chat_history])\n",
        "        prompt_text = prompt_template.format(chat_history_formatted=chat_history_formatted, user_message=user_input)\n",
        "\n",
        "        # Format the prompt\n",
        "        #prompt_text = prompt_template.format(user_message=user_input)\n",
        "\n",
        "        # Select the Gemini model with safety settings\n",
        "        model = genai.GenerativeModel(model_name, safety_settings=safety_settings)\n",
        "\n",
        "        # Generate content with temperature\n",
        "        response = model.generate_content(\n",
        "            prompt_text,\n",
        "            generation_config=genai.types.GenerationConfig(temperature=temperature)\n",
        "        )\n",
        "        chatbot_response = response.text\n",
        "\n",
        "\n",
        "        # Moderate content manually\n",
        "        if contains_prohibited_content(chatbot_response):\n",
        "            return \"Sorry, I can't provide an answer to that.\"\n",
        "\n",
        "        # Update chat history\n",
        "        chat_history.append((user_input, chatbot_response))\n",
        "\n",
        "        return chatbot_response\n",
        "\n",
        "    except Exception as e:\n",
        "        error_message = f\"An error occurred: {e}\"\n",
        "        print(error_message)\n",
        "        return \"Sorry, something went wrong.\"\n"
      ]
    },
    {
      "cell_type": "markdown",
      "metadata": {
        "id": "I_MmQ0Vp4OB3"
      },
      "source": [
        "## Create the UI"
      ]
    },
    {
      "cell_type": "code",
      "execution_count": null,
      "metadata": {
        "id": "uCuP6cSR4Pjn"
      },
      "outputs": [],
      "source": [
        "iface = gr.ChatInterface(\n",
        "    fn=generate_gemini_response,\n",
        "    title=\"Gemini Chatbot\",\n",
        "    description=\"Chat with Gemini\",\n",
        "    chatbot=gr.Chatbot(height=300, value=chat_history) # Optional: Adjust chatbot display height\n",
        ")\n",
        "iface.launch(share=True, debug=True)"
      ]
    }
  ],
  "metadata": {
    "colab": {
      "collapsed_sections": [
        "s113La1I0tbp",
        "Hf781fFL0xfD",
        "50X8ZtK-0_Rl",
        "I_MmQ0Vp4OB3"
      ],
      "toc_visible": true,
      "provenance": [],
      "authorship_tag": "ABX9TyMO69usdENY5ni+jS9/38zh",
      "include_colab_link": true
    },
    "kernelspec": {
      "display_name": "Python 3",
      "name": "python3"
    },
    "language_info": {
      "name": "python"
    }
  },
  "nbformat": 4,
  "nbformat_minor": 0
}