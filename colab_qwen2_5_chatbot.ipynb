{
  "nbformat": 4,
  "nbformat_minor": 0,
  "metadata": {
    "colab": {
      "provenance": [],
      "gpuType": "T4",
      "authorship_tag": "ABX9TyOm2pDlG3PFjfiIgMsl6azC",
      "include_colab_link": true
    },
    "kernelspec": {
      "name": "python3",
      "display_name": "Python 3"
    },
    "language_info": {
      "name": "python"
    },
    "accelerator": "GPU"
  },
  "cells": [
    {
      "cell_type": "markdown",
      "metadata": {
        "id": "view-in-github",
        "colab_type": "text"
      },
      "source": [
        "<a href=\"https://colab.research.google.com/github/boysbytes/colab-chatbot/blob/main/colab_qwen2_5_chatbot.ipynb\" target=\"_parent\"><img src=\"https://colab.research.google.com/assets/colab-badge.svg\" alt=\"Open In Colab\"/></a>"
      ]
    },
    {
      "cell_type": "markdown",
      "source": [
        "### Install dependencies"
      ],
      "metadata": {
        "id": "TGuHTQAAZjdK"
      }
    },
    {
      "cell_type": "code",
      "source": [
        "import os\n",
        "\n",
        "# Mount Google Drive\n",
        "from google.colab import drive\n",
        "drive.mount('/content/drive')\n",
        "\n",
        "# Create ollama_models folder if it doesn't exist\n",
        "ollama_models_path = '/content/drive/MyDrive/ollama_models'\n",
        "if not os.path.exists(ollama_models_path):\n",
        "    os.makedirs(ollama_models_path)\n",
        "    print(f\"Created directory: {ollama_models_path}\")\n",
        "else:\n",
        "    print(f\"Directory already exists: {ollama_models_path}\")"
      ],
      "metadata": {
        "id": "M9rk4XFQtuZk"
      },
      "execution_count": null,
      "outputs": []
    },
    {
      "cell_type": "code",
      "source": [
        "!curl -fsSL https://ollama.com/install.sh | sh\n",
        "\n",
        "# Install libraries\n",
        "!pip install ollama\n",
        "!pip install gradio\n",
        "\n",
        "import threading\n",
        "import subprocess\n",
        "import time\n",
        "\n",
        "# Start Ollama in a separate process\n",
        "def run_ollama_serve():\n",
        "  subprocess.Popen([\"ollama\", \"serve\"])\n",
        "\n",
        "thread = threading.Thread(target=run_ollama_serve)\n",
        "thread.start()\n",
        "time.sleep(5)\n",
        "\n",
        "running = subprocess.run([\"pgrep\", \"-a\", \"ollama\"], capture_output=True, text=True)\n",
        "print(\"Ollama Status:\", running.stdout if running.stdout else \"Ollama is NOT running!\")\n",
        "\n",
        "# Create symlink\n",
        "!rm -rf ~/.ollama/models\n",
        "!ln -s /content/drive/MyDrive/ollama_models ~/.ollama/models\n"
      ],
      "metadata": {
        "id": "R2C4RvcTZmMt"
      },
      "execution_count": null,
      "outputs": []
    },
    {
      "cell_type": "markdown",
      "source": [
        "### Download the model to Google Drive"
      ],
      "metadata": {
        "id": "mjQ2hiXBbDek"
      }
    },
    {
      "cell_type": "code",
      "source": [
        "import os\n",
        "model_info_path = '/content/drive/MyDrive/ollama_models/manifests/registry.ollama.ai/library/qwen2.5/0.5b'\n",
        "if not os.path.exists(model_info_path):\n",
        "    !ollama pull qwen2.5:0.5b\n",
        "else:\n",
        "    print(\"Model already exists. Skipping download.\")"
      ],
      "metadata": {
        "id": "Z4szQvG6bE5d"
      },
      "execution_count": null,
      "outputs": []
    },
    {
      "cell_type": "markdown",
      "source": [
        "### Refine your prompt template"
      ],
      "metadata": {
        "id": "8BJ8nk2QeYLI"
      }
    },
    {
      "cell_type": "code",
      "source": [
        "# Define prompt template\n",
        "PROMPT_TEMPLATE = \"\"\"You are a helpful and friendly mentor.\n",
        "Your responses should be concise and appropriate for a 15-year-old student.\n",
        "\n",
        "Conversation History:\n",
        "{chat_history_formatted}\n",
        "\n",
        "User's Message: {user_message}\n",
        "\n",
        "Chatbot's Response:\n",
        "\"\"\"\n",
        "print(\"Prompt template loaded successfully.\")"
      ],
      "metadata": {
        "id": "qi5PDjQeea_I"
      },
      "execution_count": null,
      "outputs": []
    },
    {
      "cell_type": "markdown",
      "source": [
        "### Define the chatbot function"
      ],
      "metadata": {
        "id": "cRl-Q6iKW6j-"
      }
    },
    {
      "cell_type": "code",
      "source": [
        "import ollama\n",
        "import gradio as gr\n",
        "\n",
        "# Chat function\n",
        "def chatbot_response(user_message, chat_history):\n",
        "    # Ensure chat_history is a list of tuples\n",
        "    if not isinstance(chat_history, list):\n",
        "        chat_history = []\n",
        "\n",
        "    # Format chat history\n",
        "    chat_history_formatted = \"\\\\n\".join([f\"{role}: {msg}\" for role, msg in chat_history])\n",
        "\n",
        "    # Format the prompt using the template\n",
        "    prompt = PROMPT_TEMPLATE.format(chat_history_formatted=chat_history_formatted, user_message=user_message)\n",
        "\n",
        "    try:\n",
        "        # Run inference\n",
        "        response = ollama.chat(model=\"qwen2.5:0.5b\", messages=[{\"role\": \"user\", \"content\": prompt}])\n",
        "        bot_message = response[\"message\"][\"content\"]\n",
        "    except Exception as e:\n",
        "        bot_message = f\"Error: {e}\"\n",
        "\n",
        "    # Update chat history\n",
        "    chat_history.append((\"User\", user_message))\n",
        "    chat_history.append((\"Chatbot\", bot_message))\n",
        "\n",
        "    return chat_history, chat_history"
      ],
      "metadata": {
        "id": "L_v3QojxXBjR"
      },
      "execution_count": 10,
      "outputs": []
    },
    {
      "cell_type": "markdown",
      "source": [
        "### Define the chatbot interface"
      ],
      "metadata": {
        "id": "TtQLB7dmXLz4"
      }
    },
    {
      "cell_type": "code",
      "source": [
        "with gr.Blocks() as chatui:\n",
        "    gr.Markdown(\"# 🤖 Qwen2.5 0.5B Chatbot (Google Colab)\")\n",
        "\n",
        "    chat_history = gr.State([])\n",
        "\n",
        "    chatbot = gr.Chatbot()\n",
        "    msg = gr.Textbox(label=\"Your Message\", placeholder=\"Ask me anything!\")\n",
        "    send_btn = gr.Button(\"Send\")\n",
        "\n",
        "    send_btn.click(chatbot_response, inputs=[msg, chat_history], outputs=[chatbot, chat_history])\n",
        "\n",
        "# Launch the chatbot UI\n",
        "chatui.launch(share=True)"
      ],
      "metadata": {
        "id": "sc9yje18XN5J"
      },
      "execution_count": null,
      "outputs": []
    }
  ]
}